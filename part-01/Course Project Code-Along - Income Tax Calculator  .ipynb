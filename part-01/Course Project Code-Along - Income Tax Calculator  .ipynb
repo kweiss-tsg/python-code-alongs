{
 "cells": [
  {
   "cell_type": "code",
   "execution_count": 1,
   "metadata": {},
   "outputs": [
    {
     "name": "stdout",
     "output_type": "stream",
     "text": [
      "Enter your gross income from your W-2 for 2020: 25000.15\n"
     ]
    }
   ],
   "source": [
    "gross_inc = input(\"Enter your gross income from your W-2 for 2020: \")"
   ]
  },
  {
   "cell_type": "code",
   "execution_count": 3,
   "metadata": {},
   "outputs": [
    {
     "name": "stdout",
     "output_type": "stream",
     "text": [
      "Enter your gross income from your W-2 for 2020: 35987.65\n",
      "35987.65\n"
     ]
    }
   ],
   "source": [
    "gross_inc = input(\"Enter your gross income from your W-2 for 2020: \")\n",
    "print(gross_inc)"
   ]
  },
  {
   "cell_type": "code",
   "execution_count": 4,
   "metadata": {},
   "outputs": [
    {
     "name": "stdout",
     "output_type": "stream",
     "text": [
      "Enter your gross income from your W-2 for 2020: 35987.65\n",
      "35987.65\n",
      "How many dependents are you claiming? 2\n",
      "2\n"
     ]
    }
   ],
   "source": [
    "gross_inc = input(\"Enter your gross income from your W-2 for 2020: \")\n",
    "print(gross_inc)\n",
    "\n",
    "num_dep = input(\"How many dependents are you claiming? \")\n",
    "print(num_dep)"
   ]
  },
  {
   "cell_type": "code",
   "execution_count": 5,
   "metadata": {},
   "outputs": [
    {
     "name": "stdout",
     "output_type": "stream",
     "text": [
      "Enter your gross income from your W-2 for 2020: 35987.65\n",
      "How many dependents are you claiming? 2\n"
     ]
    }
   ],
   "source": [
    "gross_inc = input(\"Enter your gross income from your W-2 for 2020: \")\n",
    "# print(gross_inc)\n",
    "\n",
    "num_dep = input(\"How many dependents are you claiming? \")\n",
    "# print(num_dep)"
   ]
  },
  {
   "cell_type": "code",
   "execution_count": 7,
   "metadata": {},
   "outputs": [
    {
     "ename": "TypeError",
     "evalue": "unsupported operand type(s) for -: 'str' and 'int'",
     "output_type": "error",
     "traceback": [
      "\u001b[1;31m---------------------------------------------------------------------------\u001b[0m",
      "\u001b[1;31mTypeError\u001b[0m                                 Traceback (most recent call last)",
      "\u001b[1;32m<ipython-input-7-cf539198992d>\u001b[0m in \u001b[0;36m<module>\u001b[1;34m\u001b[0m\n\u001b[1;32m----> 1\u001b[1;33m \u001b[0mtax_income\u001b[0m \u001b[1;33m=\u001b[0m \u001b[0mgross_inc\u001b[0m \u001b[1;33m-\u001b[0m \u001b[1;36m12200\u001b[0m \u001b[1;33m-\u001b[0m \u001b[1;33m(\u001b[0m\u001b[1;36m2000\u001b[0m \u001b[1;33m*\u001b[0m \u001b[0mnum_dep\u001b[0m\u001b[1;33m)\u001b[0m\u001b[1;33m\u001b[0m\u001b[1;33m\u001b[0m\u001b[0m\n\u001b[0m\u001b[0;32m      2\u001b[0m \u001b[0mprint\u001b[0m \u001b[1;33m(\u001b[0m\u001b[0mtax_income\u001b[0m\u001b[1;33m)\u001b[0m\u001b[1;33m\u001b[0m\u001b[1;33m\u001b[0m\u001b[0m\n",
      "\u001b[1;31mTypeError\u001b[0m: unsupported operand type(s) for -: 'str' and 'int'"
     ]
    }
   ],
   "source": [
    "tax_income = gross_inc - 12200 - (2000 * num_dep)\n",
    "print (tax_income)"
   ]
  },
  {
   "cell_type": "code",
   "execution_count": 8,
   "metadata": {},
   "outputs": [
    {
     "name": "stdout",
     "output_type": "stream",
     "text": [
      "19787.65\n"
     ]
    }
   ],
   "source": [
    "# convert the input values to numbers\n",
    "gross_inc_float = float(gross_inc)\n",
    "num_dep_int = int(num_dep)\n",
    "\n",
    "# calculate taxable income\n",
    "tax_income = gross_inc_float - 12200 - (2000 * num_dep_int)\n",
    "print (tax_income)"
   ]
  },
  {
   "cell_type": "code",
   "execution_count": 9,
   "metadata": {},
   "outputs": [
    {
     "name": "stdout",
     "output_type": "stream",
     "text": [
      "2374.518\n"
     ]
    }
   ],
   "source": [
    "# calculate tax due\n",
    "tax_due = tax_income * .12\n",
    "print (tax_due)"
   ]
  },
  {
   "cell_type": "code",
   "execution_count": 11,
   "metadata": {},
   "outputs": [
    {
     "name": "stdout",
     "output_type": "stream",
     "text": [
      "2374.518\n"
     ]
    }
   ],
   "source": [
    "# calculate tax due\n",
    "if tax_income < 9876:\n",
    "\ttax_due = tax_income * .10\n",
    "else:\n",
    "\ttax_due = tax_income * .12\n",
    "print (tax_due)"
   ]
  },
  {
   "cell_type": "code",
   "execution_count": 12,
   "metadata": {},
   "outputs": [
    {
     "name": "stdout",
     "output_type": "stream",
     "text": [
      "2374.518\n"
     ]
    }
   ],
   "source": [
    "# calculate tax due\n",
    "if tax_income < 9876:\n",
    "\ttax_due = tax_income * .10\n",
    "elif tax_income < 40126:\n",
    "\ttax_due = tax_income * .12\n",
    "elif tax_income < 85526:\n",
    "\ttax_due = tax_income * .22\n",
    "elif tax_income < 163301:\n",
    "\ttax_due = tax_income * .24\n",
    "elif tax_income < 207351:\n",
    "\ttax_due = tax_income * .35\n",
    "else:\n",
    "\ttax_due = tax_income * .37\n",
    "print (tax_due)"
   ]
  },
  {
   "cell_type": "code",
   "execution_count": 15,
   "metadata": {},
   "outputs": [
    {
     "name": "stdout",
     "output_type": "stream",
     "text": [
      "Enter your gross income from your W-2 for 2020: 15000\n",
      "How many dependents are you claiming? 2\n",
      "-1200.0\n"
     ]
    }
   ],
   "source": [
    "gross_inc = input(\"Enter your gross income from your W-2 for 2020: \")\n",
    "# print(gross_inc)\n",
    "\n",
    "num_dep = input(\"How many dependents are you claiming? \")\n",
    "# print(num_dep)\n",
    "\n",
    "# convert the input values to numbers\n",
    "gross_inc_float = float(gross_inc)\n",
    "num_dep_int = int(num_dep)\n",
    "\n",
    "# calculate taxable income\n",
    "tax_income = gross_inc_float - 12200 - (2000 * num_dep_int)\n",
    "print (tax_income)"
   ]
  },
  {
   "cell_type": "code",
   "execution_count": 25,
   "metadata": {},
   "outputs": [
    {
     "name": "stdout",
     "output_type": "stream",
     "text": [
      "Enter your gross income from your W-2 for 2020: 35987.65\n",
      "How many dependents are you claiming? 2\n",
      "19787.65\n",
      "0.12\n",
      "2374.518\n"
     ]
    }
   ],
   "source": [
    "# define user input\n",
    "gross_inc = input(\"Enter your gross income from your W-2 for 2020: \")\n",
    "# print(gross_inc)\n",
    "\n",
    "num_dep = input(\"How many dependents are you claiming? \")\n",
    "# print(num_dep)\n",
    "\n",
    "# convert the input values to numbers\n",
    "gross_inc_float = float(gross_inc)\n",
    "num_dep_int = int(num_dep)\n",
    "\n",
    "# calculate taxable income\n",
    "tax_income = gross_inc_float - 12200 - (2000 * num_dep_int)\n",
    "print (tax_income)\n",
    "\n",
    "# calculate tax due\n",
    "tax_rate = .12\n",
    "print(tax_rate)\n",
    "tax_due = tax_income * tax_rate\n",
    "print(tax_due)"
   ]
  },
  {
   "cell_type": "code",
   "execution_count": 19,
   "metadata": {},
   "outputs": [
    {
     "name": "stdout",
     "output_type": "stream",
     "text": [
      "Enter your gross income from your W-2 for 2020: 30000\n",
      "Your gross income is: 30000.\n",
      "How many dependents are you claiming? 2\n",
      "You have 2 dependents.\n"
     ]
    }
   ],
   "source": [
    "# define user input\n",
    "gross_inc = input(\"Enter your gross income from your W-2 for 2020: \")\n",
    "print(\"Your gross income is: \" + gross_inc + \".\")\n",
    "\n",
    "num_dep = input(\"How many dependents are you claiming? \")\n",
    "print(\"You have \" + num_dep + \" dependents.\")"
   ]
  },
  {
   "cell_type": "code",
   "execution_count": 27,
   "metadata": {},
   "outputs": [
    {
     "name": "stdout",
     "output_type": "stream",
     "text": [
      "Your taxable income is: $19787.65\n"
     ]
    }
   ],
   "source": [
    "print (\"Your taxable income is: $\" + str(tax_income))"
   ]
  },
  {
   "cell_type": "code",
   "execution_count": 32,
   "metadata": {},
   "outputs": [
    {
     "name": "stdout",
     "output_type": "stream",
     "text": [
      "Your tax rate is: 0.12\n"
     ]
    }
   ],
   "source": [
    "print (\"Your tax rate is: \" + str(tax_rate))"
   ]
  },
  {
   "cell_type": "code",
   "execution_count": 30,
   "metadata": {},
   "outputs": [
    {
     "name": "stdout",
     "output_type": "stream",
     "text": [
      "Your tax due is: $2374.518\n"
     ]
    }
   ],
   "source": [
    "print (\"Your tax due is: $\" + str(tax_due))"
   ]
  },
  {
   "cell_type": "code",
   "execution_count": 33,
   "metadata": {},
   "outputs": [
    {
     "name": "stdout",
     "output_type": "stream",
     "text": [
      "Your tax rate is: 12.0\n"
     ]
    }
   ],
   "source": [
    "print (\"Your tax rate is: \" + str(100 * tax_rate))"
   ]
  },
  {
   "cell_type": "code",
   "execution_count": 36,
   "metadata": {},
   "outputs": [
    {
     "name": "stdout",
     "output_type": "stream",
     "text": [
      "Enter your gross income from your W-2 for 2020: 35987.65\n",
      "Your gross income is $35987.65.\n",
      "How many dependents are you claiming? 2\n",
      "You have 2 dependents.\n"
     ]
    }
   ],
   "source": [
    "# define user input\n",
    "gross_inc = input(\"Enter your gross income from your W-2 for 2020: \")\n",
    "print(\"Your gross income is $\" + gross_inc + \".\")\n",
    "\n",
    "num_dep = input(\"How many dependents are you claiming? \")\n",
    "print(\"You have \" + num_dep + \" dependents.\")"
   ]
  },
  {
   "cell_type": "code",
   "execution_count": 37,
   "metadata": {},
   "outputs": [
    {
     "name": "stdout",
     "output_type": "stream",
     "text": [
      "Your taxable income is $19787.65.\n"
     ]
    }
   ],
   "source": [
    "print (\"Your taxable income is $\" + str(tax_income) + \".\")"
   ]
  },
  {
   "cell_type": "code",
   "execution_count": 38,
   "metadata": {},
   "outputs": [
    {
     "name": "stdout",
     "output_type": "stream",
     "text": [
      "Your tax due is $2374.518.\n"
     ]
    }
   ],
   "source": [
    "print (\"Your tax due is $\" + str(tax_due) + \".\")"
   ]
  },
  {
   "cell_type": "code",
   "execution_count": 42,
   "metadata": {},
   "outputs": [
    {
     "name": "stdout",
     "output_type": "stream",
     "text": [
      "Your tax rate is %0.\n"
     ]
    }
   ],
   "source": [
    "print (\"Your tax rate is %\" + str(int(100 * tax_rate)) + \".\")"
   ]
  },
  {
   "cell_type": "code",
   "execution_count": 45,
   "metadata": {},
   "outputs": [
    {
     "name": "stdout",
     "output_type": "stream",
     "text": [
      "Enter your gross income from your W-2 for 2020: 35987.65\n",
      "How many dependents are you claiming? 2\n",
      "Your gross income is $35987.65.\n",
      "You have 2 dependents.\n",
      "Your taxable income is $19787.65.\n",
      "Your tax rate is %12.\n",
      "Your tax due is $2374.518.\n"
     ]
    }
   ],
   "source": [
    "# define user input\n",
    "gross_inc = input(\"Enter your gross income from your W-2 for 2020: \")\n",
    "num_dep = input(\"How many dependents are you claiming? \")\n",
    "\n",
    "\n",
    "# convert the input values to numbers\n",
    "gross_inc_float = float(gross_inc)\n",
    "num_dep_int = int(num_dep)\n",
    "\n",
    "# calculate taxable income\n",
    "tax_income = gross_inc_float - 12200 - (2000 * num_dep_int)\n",
    "\n",
    "# calculate tax rate\n",
    "if tax_income < 0:\n",
    "    tax_rate = 0\n",
    "elif tax_income < 9876:\n",
    "\ttax_rate = .10\n",
    "elif tax_income < 40126:\n",
    "\ttax_rate = .12\n",
    "elif tax_income < 85526:\n",
    "\ttax_rate = .22\n",
    "elif tax_income < 163301:\n",
    "\ttax_rate = .24\n",
    "elif tax_income < 207351:\n",
    "\ttax_rate = .35\n",
    "else:\n",
    "\ttax_rate = .37\n",
    "\n",
    "# calculate the tax due\n",
    "tax_due = tax_income * tax_rate\n",
    "\n",
    "# report the results to the user\n",
    "print(\"Your gross income is $\" + gross_inc + \".\")\n",
    "print(\"You have \" + num_dep + \" dependents.\")\n",
    "print (\"Your taxable income is $\" + str(tax_income) + \".\")\n",
    "print (\"Your tax rate is %\" + str(int(100 * tax_rate)) + \".\")\n",
    "print (\"Your tax due is $\" + str(tax_due) + \".\")"
   ]
  },
  {
   "cell_type": "code",
   "execution_count": null,
   "metadata": {},
   "outputs": [],
   "source": []
  }
 ],
 "metadata": {
  "kernelspec": {
   "display_name": "Python 3",
   "language": "python",
   "name": "python3"
  },
  "language_info": {
   "codemirror_mode": {
    "name": "ipython",
    "version": 3
   },
   "file_extension": ".py",
   "mimetype": "text/x-python",
   "name": "python",
   "nbconvert_exporter": "python",
   "pygments_lexer": "ipython3",
   "version": "3.8.5"
  }
 },
 "nbformat": 4,
 "nbformat_minor": 4
}
