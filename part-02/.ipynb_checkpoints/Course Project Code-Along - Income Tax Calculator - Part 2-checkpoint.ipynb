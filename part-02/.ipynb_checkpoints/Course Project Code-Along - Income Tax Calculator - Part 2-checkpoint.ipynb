{
 "cells": [
  {
   "cell_type": "code",
   "execution_count": 45,
   "metadata": {},
   "outputs": [
    {
     "name": "stdout",
     "output_type": "stream",
     "text": [
      "Enter your gross income from your W-2 for 2020: 35987.65\n",
      "How many dependents are you claiming? 2\n",
      "Your gross income is $35987.65.\n",
      "You have 2 dependents.\n",
      "Your taxable income is $19787.65.\n",
      "Your tax rate is %12.\n",
      "Your tax due is $2374.518.\n"
     ]
    }
   ],
   "source": [
    "# initialize the variables\n",
    "max10 = 9875\n",
    "max12 = 40125\n",
    "max22 = 85525\n",
    "max24 = 163300\n",
    "max32 = 207350\n",
    "max35 = 518400\n",
    "\n",
    "tier10_tax = max10 * .1 \n",
    "tier12_tax = tier10_tax + ((max12 - max10) * .12)\n",
    "tier22_tax = tier12_tax + ((max22 - max12) * .22)\n",
    "tier24_tax = tier22_tax + ((max24 - max22) * .24)\n",
    "tier32_tax = tier24_tax + ((max32 - max24) * .32)\n",
    "tier35_tax = tier32_tax + ((max35 - max32) * .35)\n",
    "\n",
    "# define user input\n",
    "gross_inc = input(\"Enter your gross income from your W-2 for 2020: \")\n",
    "\n",
    "num_dep = input(\"How many dependents are you claiming? \")\n",
    "\n",
    "# convert the input values to numbers\n",
    "gross_inc_float = float(gross_inc)\n",
    "num_dep_int = int(num_dep)\n",
    "\n",
    "# calculate taxable income\n",
    "tax_income = gross_inc_float - 12200 - (2000 * num_dep_int)\n",
    "\n",
    "if tax_income <=0:\n",
    "    tax_due = 0\n",
    "elif tax_income <= max10:\n",
    "    tax_due = tax_income * 0.1\n",
    "elif tax_income <= max12:\n",
    "    tax_due = tier10_tax + ((tax_income - max10) * .12)\n",
    "elif tax_income <= max22:\n",
    "    tax_due = tier12_tax + ((tax_income - max12) * .22)\n",
    "elif tax_income <= max24:\n",
    "    tax_due = tier22_tax + ((tax_income - max22) * .24)\n",
    "elif tax_income <= max32:\n",
    "    tax_due = tier24_tax + ((tax_income - max24) * .32)\n",
    "elif tax_income <= max35:\n",
    "    tax_due = tier32_tax + ((tax_income - max32) * .35)\n",
    "elif tax_income > max35:\n",
    "    tax_due = tier35_tax + ((tax_income - max35) * .37)\n",
    "\n",
    "# report the results to the user\n",
    "print(\"Your gross income is $\" + gross_inc + \".\")\n",
    "print(\"You have \" + num_dep + \" dependents.\")\n",
    "print (\"Your taxable income is $\" + str(tax_income) + \".\")\n",
    "print (\"Your tax due is $\" + str(int(tax_due)) + \".\")\n"
   ]
  },
  {
   "cell_type": "code",
   "execution_count": 7,
   "metadata": {},
   "outputs": [
    {
     "name": "stdout",
     "output_type": "stream",
     "text": [
      "12200\n",
      "2000\n"
     ]
    }
   ],
   "source": [
    "# define deduction values\n",
    "deductions = [12200,2000]\n",
    "gen_deduction = deductions[0]\n",
    "print(gen_deduction)\n",
    "dep_deduction = deductions[1]\n",
    "print(dep_deduction)"
   ]
  },
  {
   "cell_type": "code",
   "execution_count": 11,
   "metadata": {},
   "outputs": [
    {
     "name": "stdout",
     "output_type": "stream",
     "text": [
      "Enter your gross income from your W-2 for 2020: 25000\n",
      "How many dependents are you claiming? 2\n",
      "8800.0\n"
     ]
    }
   ],
   "source": [
    "# define deduction values\n",
    "deductions = [12200,2000]\n",
    "gen_deduction = deductions[0]\n",
    "#print(gen_deduction)\n",
    "dep_deduction = deductions[1]\n",
    "#print(dep_deduction)\n",
    "\n",
    "# define user input\n",
    "gross_inc = input(\"Enter your gross income from your W-2 for 2020: \")\n",
    "num_dep = input(\"How many dependents are you claiming? \")\n",
    "\n",
    "# convert the input values to numbers\n",
    "gross_inc_float = float(gross_inc)\n",
    "num_dep_int = int(num_dep)\n",
    "\n",
    "# calculate taxable income\n",
    "tax_income = gross_inc_float - gen_deduction - (dep_deduction * num_dep_int)\n",
    "print(tax_income)"
   ]
  },
  {
   "cell_type": "code",
   "execution_count": null,
   "metadata": {},
   "outputs": [],
   "source": []
  }
 ],
 "metadata": {
  "kernelspec": {
   "display_name": "Python 3",
   "language": "python",
   "name": "python3"
  },
  "language_info": {
   "codemirror_mode": {
    "name": "ipython",
    "version": 3
   },
   "file_extension": ".py",
   "mimetype": "text/x-python",
   "name": "python",
   "nbconvert_exporter": "python",
   "pygments_lexer": "ipython3",
   "version": "3.8.5"
  }
 },
 "nbformat": 4,
 "nbformat_minor": 4
}
